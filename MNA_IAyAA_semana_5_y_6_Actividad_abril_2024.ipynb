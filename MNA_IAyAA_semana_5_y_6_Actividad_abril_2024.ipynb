{
  "cells": [
    {
      "cell_type": "markdown",
      "metadata": {
        "id": "K95zrUNvxSee"
      },
      "source": [
        "# **SOLUCIÓN DEL PROFESOR - NO PUBLICAR**"
      ]
    },
    {
      "cell_type": "markdown",
      "metadata": {
        "id": "dBbWMn9ebmi8"
      },
      "source": [
        "# Maestría en Inteligencia Artificial Aplicada\n",
        "\n",
        "## Curso: Inteligencia Artificial y Aprendizaje Automático\n",
        "\n",
        "### Tecnológico de Monterrey\n",
        "\n",
        "### Prof Luis Eduardo Falcón Morales\n",
        "\n",
        "## Adtividad de las Semanas 5 y 6\n",
        "### **Problema de asignación de créditos: South German Dataset.**\n"
      ]
    },
    {
      "cell_type": "markdown",
      "metadata": {
        "id": "YiwEw8XsZG2W"
      },
      "source": [
        "## **Nombres y matrículas:**\n",
        "\n",
        "\n",
        "\n",
        "*   Nombre y matrícula\n",
        "\n",
        "*   Nombre y matrícula\n",
        "\n"
      ]
    },
    {
      "cell_type": "markdown",
      "metadata": {
        "id": "AUxxkjE6shkH"
      },
      "source": [
        "# **Parte I: Partición, análisis y pre-procesamiento de los datos.**"
      ]
    },
    {
      "cell_type": "markdown",
      "metadata": {
        "id": "a08Di3GjkL1Y"
      },
      "source": [
        "## **Ejercicio 1**"
      ]
    },
    {
      "cell_type": "code",
      "execution_count": null,
      "metadata": {
        "id": "6VGEpE4SblfD"
      },
      "outputs": [],
      "source": [
        "# Aquí deberás incluir todas las librerías que requieras durante esta actividad:\n",
        "Test\n"
      ]
    },
    {
      "cell_type": "code",
      "execution_count": null,
      "metadata": {
        "id": "K3gUzoM3iRkt"
      },
      "outputs": [],
      "source": [
        "# Si se desean comentar algunos de los Warnings.\n",
        "#import warnings\n",
        "#warnings.filterwarnings('ignore')"
      ]
    },
    {
      "cell_type": "code",
      "execution_count": null,
      "metadata": {
        "id": "ppyf8TTgb9zq"
      },
      "outputs": [],
      "source": [
        "# Carga y renombra los nombres de las columnas del alemán al inglés y desplegamos\n",
        "# de nuevo el DataFrame para ver el resultado obtenido:\n",
        "\n",
        "# ************* Inlcuye aquí tu código:*****************************\n",
        "\n",
        "\n",
        "None   # NOTA: Tanto aquí como en lo sucesivo, \"None\" puede indicar una o varias líneas de código.\n",
        "\n",
        "\n",
        "# *********** Aquí termina la sección de agregar código *************\n",
        "\n",
        "df.head().T"
      ]
    },
    {
      "cell_type": "markdown",
      "metadata": {
        "id": "LckYCS8SlnFo"
      },
      "source": [
        "## **Ejercicio 2**"
      ]
    },
    {
      "cell_type": "code",
      "execution_count": null,
      "metadata": {
        "id": "Tlg8jYbnlqNA"
      },
      "outputs": [],
      "source": [
        "# Los datos originales tienen en la variable de salida \"credit_risk\" a la clase negativa (buen cliente) con el valor de 1\n",
        "# y a la clase de interés positiva (mal cliente) con el valor de 0. Realiza a continuación una transformación para que la\n",
        "# clase negativa (buen cliente) quede ahora con el valor de 0 y la clase positiva (mal cliente) quede con el valor de 1.\n",
        "\n",
        "# ************* Inlcuye aquí tu código:*****************************\n",
        "\n",
        "None\n",
        "\n",
        "\n",
        "# *********** Aquí termina la sección de agregar código *************\n",
        "\n",
        "\n",
        "print(df['credit_risk'].value_counts())"
      ]
    },
    {
      "cell_type": "markdown",
      "metadata": {
        "id": "qQx2lbzTkEsQ"
      },
      "source": [
        "## **Ejercicio 3**"
      ]
    },
    {
      "cell_type": "code",
      "execution_count": null,
      "metadata": {
        "id": "TP5-zdWVczhy"
      },
      "outputs": [],
      "source": [
        "# Realiza una partición de 70-15-15 en entrenamiento, validación y prueba.\n",
        "# Los nombres de los conjuntos deberán ser como se indican en los print de abajo:\n",
        "\n",
        "# ************* Inlcuye aquí tu código:*****************************\n",
        "\n",
        "\n",
        "None\n",
        "\n",
        "\n",
        "# *********** Aquí termina la sección de agregar código *************\n",
        "\n",
        "\n",
        "# Mostremos las dimensiones de la partición generada:\n",
        "print(\"Dimensiones:\")\n",
        "print(\"Entrenamiento:\", Xtrain.shape, ytrain.shape)\n",
        "print(\"Validación:\", Xval.shape, yval.shape)\n",
        "print(\"Prueba:\", Xtest.shape, ytest.shape)\n",
        "\n",
        "# Y el porcentaje de cada clase de la variable de salida:\n",
        "tmp = ytrain.sum()/ytrain.shape[0]\n",
        "print(\"\\nPorcentaje clases Positiva:%.2f%%, y Negativa:%.2f%%\" % (100*(1-tmp),tmp*100))\n"
      ]
    },
    {
      "cell_type": "markdown",
      "metadata": {
        "id": "ptwAm_mOjVWH"
      },
      "source": [
        "### **Con base al porcentaje de los niveles de la variable de salida ¿podemos decir que tenemos un problema de datos desbalanceado? ¿Por qué?**\n",
        "\n",
        "\n",
        "\n",
        "### ++++++++ Inicia la sección de agregar texto: +++++++++++\n",
        "\n",
        "None\n",
        "\n",
        "### ++++++++ Termina la sección de agregar texto: +++++++++++\n",
        "\n"
      ]
    },
    {
      "cell_type": "markdown",
      "metadata": {
        "id": "ocmGcSC2j_2x"
      },
      "source": [
        "## **Ejercicio 4**"
      ]
    },
    {
      "cell_type": "markdown",
      "metadata": {
        "id": "EgO8Jh2bXrL0"
      },
      "source": [
        "### **Describe a continuación la información de cada variable: su descripción, el tipo de variable y para el caso de las categóricas, el total de niveles.**\n",
        "\n",
        "### ++++++++ Inicia la sección de agregar texto: +++++++++++\n",
        "\n",
        "\n",
        "### **6 Variables de entrada Categóricas Nominales:**\n",
        "\n",
        "*   **credit_history (total de niveles):**\n",
        "*   **purpose (total de niveles):**  \n",
        "*   **personal_status_sex (total de niveles):**\n",
        "*   **other_debtors (total de niveles):**\n",
        "*   **other_installment_plans (total de niveles):**\n",
        "*   **housing (total de niveles):**\n",
        "\n",
        "\n",
        "### **4 Variables Categóricas Binarias (3 de entrada y 1 de salida):**\n",
        "\n",
        "*   **people_liable:**\n",
        "*   **telephone:**\n",
        "*   **foreign_worker:**\n",
        "*   **credit_risk:** (Variable de salida)\n",
        "\n",
        "\n",
        "### **5 Variables Categóricas Ordinales (Cuantitativas Discretas + Strings):**\n",
        "\n",
        "#### NOTA: Estas variables están formadas por niveles que contienen intervalos numéricos y de texto.\n",
        "\n",
        "\n",
        "*   **status (total de niveles):**\n",
        "*   **savings (total de niveles):**\n",
        "*   **employment_duration (total de niveles):**\n",
        "*   **property (total de niveles):**\n",
        "*   **job (total de niveles):**\n",
        "\n",
        "\n",
        "### **3 Variables Categóricas Ordinales:**\n",
        "### NOTA: Estas categóricas ordinales están formadas solo por intervalos numéricos.\n",
        "\n",
        "*   **installment_rate (total de niveles):**\n",
        "*   **present_residence (total de niveles):**\n",
        "*   **number_credits (total de niveles):**\n",
        "\n",
        "\n",
        "\n",
        "### **3 Variables Numéricas reales o flotantes:**\n",
        "*   **duration:**\n",
        "*   **amount:**\n",
        "*   **age:**\n",
        "\n",
        "\n",
        "### ++++++++ Termina la sección de agregar texto. +++++++++++"
      ]
    },
    {
      "cell_type": "markdown",
      "metadata": {
        "id": "zb5bE4WJj8Rw"
      },
      "source": [
        "## **Ejercicio 5**"
      ]
    },
    {
      "cell_type": "markdown",
      "metadata": {
        "id": "urAFNUyMjodn"
      },
      "source": [
        "### Análisis descriptivo de las variables usando el conjunto de entrenamiento.\n",
        "\n",
        "### Incluye a continuación todo el código que consideres necesario para analizar las variables y decidir en dado caso qué transformaciones les estarías aplicando."
      ]
    },
    {
      "cell_type": "code",
      "execution_count": null,
      "metadata": {
        "id": "FZNjwKewd9fK"
      },
      "outputs": [],
      "source": [
        "\n",
        "\n",
        " # Puedes incluir a continuación todas las celdas de código que requieras....\n",
        "\n"
      ]
    },
    {
      "cell_type": "markdown",
      "metadata": {
        "id": "_-W1Y9GxiW4Q"
      },
      "source": [
        "\n",
        "### **Describe y explica a continuación las transformaciones que has decidido aplicar a cada columna:**\n",
        "\n",
        "### ++++++++ Inicia la sección de agregar texto: +++++++++++\n",
        "\n",
        "None\n",
        "\n",
        "\n",
        "### ++++++++ Termina la sección de agregar texto. +++++++++++\n"
      ]
    },
    {
      "cell_type": "markdown",
      "metadata": {
        "id": "B9i2CrLJs-1m"
      },
      "source": [
        "# **Parte II: Modelos de aprendizaje automático con los conjuntos originales de la partición realizada.**"
      ]
    },
    {
      "cell_type": "markdown",
      "metadata": {
        "id": "UJokj9Diyeu0"
      },
      "source": [
        "## **Ejercicio 6**"
      ]
    },
    {
      "cell_type": "code",
      "execution_count": null,
      "metadata": {
        "id": "NvNYiIp9weCm"
      },
      "outputs": [],
      "source": [
        "# Transformaciones que se aplicarán a las variables numéricas usando la clase Pipeline de sklearn:\n",
        "\n",
        "# ************* Inlcuye aquí tu código:*****************************\n",
        "\n",
        "# Variables numéricas:\n",
        "num_pipe = None\n",
        "num_pipe_nombres = None\n",
        "\n",
        "\n",
        "\n",
        "# Variables categóricas-Nominales:\n",
        "cat_pipe = None\n",
        "cat_pipe_nombres = None\n",
        "\n",
        "\n",
        "# Conjuntemos las transformaciones de todo tipo de variable y\n",
        "# dejamos sin procesar aquellas que hayas decidido no transformar:\n",
        "\n",
        "columnasTransformer = None\n",
        "\n",
        "\n",
        "\n",
        "# *********** Aquí termina la sección de agregar código *************\n"
      ]
    },
    {
      "cell_type": "markdown",
      "metadata": {
        "id": "hZxyRbHL0gNF"
      },
      "source": [
        "## **Ejercicio 7**"
      ]
    },
    {
      "cell_type": "code",
      "execution_count": null,
      "metadata": {
        "id": "d3lqBiH5wd1e"
      },
      "outputs": [],
      "source": [
        "# Como se va a utilizar Validación-Cruzada, concatena los conjuntos de entrenamiento y validación\n",
        "# en uno nuevo conjunto aumentado que llamaremos trainval para utilizar como entrenamiento:\n",
        "\n",
        "# ************* Inlcuye aquí tu código:**************************\n",
        "\n",
        "Xtrainval = None\n",
        "ytrainval = None\n",
        "\n",
        "# *********** Aquí termina la sección de agregar código *************\n",
        "\n",
        "\n",
        "# Veamos cuántas varaibles nuevas se introducen con las transformaciones One-Hot-Encoding:\n",
        "Xtmp = Xtrainval.copy()\n",
        "tmp = columnasTransformer.fit_transform(Xtmp)\n",
        "print(\"Dimensión de las variables de entrada ANTES de las transformaciones:\", Xtmp.shape)\n",
        "print(\"Dimensión de las variables de entrada DESPUÉS de las transformaciones:\", tmp.shape)"
      ]
    },
    {
      "cell_type": "markdown",
      "metadata": {
        "id": "DyzIjcVAF6Y7"
      },
      "source": [
        "## **Ejercicio 8**"
      ]
    },
    {
      "cell_type": "code",
      "execution_count": null,
      "metadata": {
        "id": "0hdi7AAtwd5G",
        "scrolled": true
      },
      "outputs": [],
      "source": [
        "# Definimos a continuación la función que llamamos \"mis_modelos\" que incluye\n",
        "# todos los modelos que deseamos comparar en el ejercicio.\n",
        "\n",
        "\n",
        "def mis_modelos():\n",
        "  modelos, nombres = list(), list()\n",
        "\n",
        "\n",
        "  # ************* Inlcuye aquí tu código:**************************\n",
        "  #\n",
        "  # Deberás incluir en cada modelo los argumentos que consideres\n",
        "  # adecuados para que cada uno converja y no esté sobreentrenado\n",
        "  # con respecto a la métrica de la exatitud (accuracy).\n",
        "\n",
        "\n",
        "  # Regresión Logística - Logistic Regression-LR:\n",
        "  # https://scikit-learn.org/stable/modules/generated/sklearn.linear_model.LogisticRegression.html\n",
        "\n",
        "  modelos.append(LogisticRegression( None ))\n",
        "  nombres.append('LR')\n",
        "\n",
        "\n",
        "\n",
        "\n",
        "  # k-Vecinos más Cercanos : k-Nearest-Neighbors-kNN:\n",
        "  # https://scikit-learn.org/stable/modules/generated/sklearn.neighbors.KNeighborsClassifier.html\n",
        "\n",
        "  modelos.append(KNeighborsClassifier( None ))\n",
        "  nombres.append('kNN')\n",
        "\n",
        "\n",
        "\n",
        "\n",
        "  # Árbol de decisiones-DecisionTree-DT:\n",
        "  # https://scikit-learn.org/stable/modules/generated/sklearn.tree.DecisionTreeClassifier.html\n",
        "\n",
        "  modelos.append(DecisionTreeClassifier( None ))\n",
        "  nombres.append('DTree')\n",
        "\n",
        "\n",
        "\n",
        "\n",
        "  # Bosque Aleatorio-RandomForest-RF:\n",
        "  # https://scikit-learn.org/stable/modules/generated/sklearn.ensemble.RandomForestClassifier.html\n",
        "\n",
        "  modelos.append(RandomForestClassifier( None ))\n",
        "  nombres.append('RF')\n",
        "\n",
        "\n",
        "\n",
        "\n",
        "  # XGBoosting:\n",
        "  # https://xgboost.readthedocs.io/en/latest/python/python_api.html#xgboost.XGBClassifier\n",
        "  # https://xgboost.readthedocs.io/en/stable/parameter.html\n",
        "\n",
        "  modelos.append(XGBClassifier( None ))\n",
        "  nombres.append('XGBoost')\n",
        "\n",
        "\n",
        "\n",
        "\n",
        "  # Red neuronal de Perceptrón Multicapa-MLP:\n",
        "  # https://scikit-learn.org/stable/modules/generated/sklearn.neural_network.MLPClassifier.html\n",
        "\n",
        "  modelos.append(MLPClassifier( None ))\n",
        "  nombres.append('MLP')\n",
        "\n",
        "\n",
        "\n",
        "\n",
        "  # Máquina de Vectores de Soporte-SVM:\n",
        "  # https://scikit-learn.org/stable/modules/generated/sklearn.svm.SVC.html\n",
        "\n",
        "  modelos.append(SVC( None ))\n",
        "  nombres.append('SVM')\n",
        "\n",
        "\n",
        "  # *********** Aquí termina la sección de agregar código *******************\n",
        "\n",
        "\n",
        "\n",
        "  return modelos, nombres\n",
        "\n",
        "\n",
        "\n",
        "# Entrenamos cada uno de los modelos y desplegamos la métricas de Train y Val.\n",
        "\n",
        "# NOTA: Observa que el método de Validación-Cruzada llama  a los resultados\n",
        "#       de \"validation\" como \"test\":\n",
        "\n",
        "modelos, nombres = mis_modelos()\n",
        "resultados = list()\n",
        "\n",
        "for i in range(len(modelos)):\n",
        "\n",
        "  # Definimos nuestro pipeline con las transformaciones y los modelos:\n",
        "  pipeline = Pipeline(steps=[('ct',columnasTransformer),('m',modelos[i])])\n",
        "\n",
        "  # Aplicaremos validación-cruzada:\n",
        "  micv = RepeatedStratifiedKFold(n_splits=5,\n",
        "                                 n_repeats=3,\n",
        "                                 random_state=5     # agreguemos una semilla para estabilizar resultados.\n",
        "                                 )\n",
        "\n",
        "\n",
        "  # Definimos las métricas que desamos recuperar:\n",
        "  mismetricas = {'accuracy','precision','recall','f1'}\n",
        "\n",
        "  # Llevamos a cabo el entrenamiento:\n",
        "  scores = cross_validate(pipeline,\n",
        "                          Xtrainval,\n",
        "                          ytrainval,\n",
        "                          scoring=mismetricas,\n",
        "                          cv=micv,\n",
        "                          return_train_score=True,\n",
        "                          )\n",
        "\n",
        "  # Guardemos el resultado de cada modelo para análisis posteriores.\n",
        "  resultados.append(scores)\n",
        "\n",
        "  # Desplegamos los valores de las métricas para verificar si no hay\n",
        "  # subentrenamiento o sobreentrenamiento:\n",
        "  print('>> %s' % nombres[i])\n",
        "  for j,k in enumerate(list(scores.keys())):\n",
        "    if j>1:\n",
        "      print('\\t %s %.3f (%.3f)' % (k, np.mean(scores[k]),np.std(scores[k])))"
      ]
    },
    {
      "cell_type": "markdown",
      "metadata": {
        "id": "CGRvZ5QmBU5P"
      },
      "source": [
        "## **Ejercicio 9**"
      ]
    },
    {
      "cell_type": "markdown",
      "metadata": {
        "id": "5MeXfRLyIOLa"
      },
      "source": [
        "### **De acuerdo a la información de la matriz de costo dada en la documentación del problema, contesta las siguientes preguntas:**\n",
        "\n",
        "### ++++++++ Inicia la sección de agregar texto: +++++++++++\n",
        "\n",
        "a.   ¿Qué error se considera más costoso por parte del banco? ¿FP o FN? Justifica tu respuesta.\n",
        "\n",
        "None\n",
        "\n",
        "b.   ¿Cuál o cuáles serían entonces las métricas a considerar como más importantes? Justifica tu respuesta.\n",
        "\n",
        "None\n",
        "\n",
        "\n",
        "\n",
        "### ++++++++ Termina la sección de agregar texto. +++++++++++\n"
      ]
    },
    {
      "cell_type": "markdown",
      "metadata": {
        "id": "4JkGo57zMXqn"
      },
      "source": [
        "## **Ejercicio 10**"
      ]
    },
    {
      "cell_type": "code",
      "execution_count": null,
      "metadata": {
        "id": "DsV2wzymwdyV"
      },
      "outputs": [],
      "source": [
        "# Obtener un diagrama de caja y bigotes (boxplot) múltiple de todos los modelos,\n",
        "# utilizando los resultados obtenidos con la métrica que consideraste más importante\n",
        "# en el ejercicio anterior:\n",
        "\n",
        "\n",
        "# ************* Inlcuye aquí tu código:**************************\n",
        "\n",
        "None\n",
        "\n",
        "\n",
        "# *********** Aquí termina la sección de agregar código *************\n"
      ]
    },
    {
      "cell_type": "markdown",
      "metadata": {
        "id": "mrHxhpEkmvbf"
      },
      "source": [
        "### **Incluye tus conclusiones al respecto, en particular indica cuáles consideras son los mejores modelos obtenidos.**\n",
        "\n",
        "### ++++++++ Inicia la sección de agregar texto: +++++++++++\n",
        "\n",
        "None\n",
        "\n",
        "### ++++++++ Termina la sección de agregar texto: +++++++++++\n",
        "\n"
      ]
    },
    {
      "cell_type": "markdown",
      "metadata": {
        "id": "TPOqRS7pNCNH"
      },
      "source": [
        "# **Parte III: Modelos con técnicas para clases no balanceadas.**"
      ]
    },
    {
      "cell_type": "markdown",
      "metadata": {
        "id": "HowUdsf7MqIJ"
      },
      "source": [
        "## **Ejercicio 11**"
      ]
    },
    {
      "cell_type": "code",
      "execution_count": null,
      "metadata": {
        "id": "ZbfPqUkSwFxo"
      },
      "outputs": [],
      "source": [
        "# Selecciona una técnica de sobremuestreo y/o submuestreo\n",
        "# para clases no balanceadas que consideres adecuada.\n",
        "\n",
        "\n",
        "\n",
        "# ************* Inlcuye aquí tu código:**************************\n",
        "\n",
        "None\n",
        "\n",
        "\n",
        "# *********** Aquí termina la sección de agregar código *************\n"
      ]
    },
    {
      "cell_type": "markdown",
      "metadata": {
        "id": "vNisnGnk6Q7g"
      },
      "source": [
        "## **Ejercicio 12**"
      ]
    },
    {
      "cell_type": "code",
      "execution_count": null,
      "metadata": {
        "id": "W9ZXNgJcxKdl"
      },
      "outputs": [],
      "source": [
        "# Obtener un diagrama de caja y bigotes (boxplot) múltiple de todos los modelos,\n",
        "# que incluye submuestreo y/o sobremuestreo:\n",
        "\n",
        "\n",
        "# ************* Inlcuye aquí tu código:**************************\n",
        "\n",
        "None\n",
        "\n",
        "\n",
        "# *********** Aquí termina la sección de agregar código *************"
      ]
    },
    {
      "cell_type": "markdown",
      "metadata": {
        "id": "hDV5EpEIRsy4"
      },
      "source": [
        "# **Parte IV: Mejor modelo**"
      ]
    },
    {
      "cell_type": "markdown",
      "metadata": {
        "id": "PORgZ7b_WTq-"
      },
      "source": [
        "## **Ejercicio 13**"
      ]
    },
    {
      "cell_type": "markdown",
      "metadata": {
        "id": "FBSVeSgfWSgn"
      },
      "source": [
        "### **Selecciona y justifica cuál consideras es el mejor modelo que has obtenido hasta ahora.**\n",
        "\n",
        "### ++++++++ Inicia la sección de agregar texto: +++++++++++\n",
        "\n",
        "None\n",
        "\n",
        "### ++++++++ Termina la sección de agregar texto. +++++++++++\n"
      ]
    },
    {
      "cell_type": "markdown",
      "metadata": {
        "id": "slDkvQ37Wtst"
      },
      "source": [
        "## **Ejercicio 14**"
      ]
    },
    {
      "cell_type": "code",
      "execution_count": null,
      "metadata": {
        "id": "ZRZUVESUXQhY"
      },
      "outputs": [],
      "source": [
        "# Incluye aquí tu mejor modelo. Verifica que tu modelo no esté sobreentrenado\n",
        "# e indica cuáles son los mejores valores obtenidos de los hiperparámetros.\n",
        "\n",
        "\n",
        "# Con el mejor modelo y los mejores hiperparámetros encontrados en el ejercicio anterior,\n",
        "# utiliza ahora (por primera vez en la actividad) el conjunto de prueba (test set) para:\n",
        "\n",
        "# a.\tMejor modelo con los mejores hiperparámetros y el conjunto de prueba.\n",
        "\n",
        "\n",
        "# ************* Inlcuye aquí tu código:**************************\n",
        "\n",
        "None\n",
        "\n",
        "# *********** Aquí termina la sección de agregar código *************\n"
      ]
    },
    {
      "cell_type": "code",
      "execution_count": null,
      "metadata": {
        "id": "lBd-VuoAXZZX"
      },
      "outputs": [],
      "source": [
        "# b.\tObtener la matriz de confusión y el classification_report().\n",
        "\n",
        "# ************* Inlcuye aquí tu código:**************************\n",
        "\n",
        "None\n",
        "\n",
        "\n",
        "# *********** Aquí termina la sección de agregar código *************"
      ]
    },
    {
      "cell_type": "code",
      "execution_count": null,
      "metadata": {
        "id": "Ngslji43XsO_"
      },
      "outputs": [],
      "source": [
        "# c.\tRealiza un análisis de importancia de variables (feature importance) de este\n",
        "#     mejor modelo e incluye tus conclusiones al respecto.\n",
        "\n",
        "# ************* Inlcuye aquí tu código:**************************\n",
        "\n",
        "None\n",
        "\n",
        "\n",
        "# *********** Aquí termina la sección de agregar código *************"
      ]
    },
    {
      "cell_type": "markdown",
      "metadata": {
        "id": "hzJcWAWz8aG_"
      },
      "source": [
        "\n",
        "### ++++++++ Inicia la sección de agregar texto: +++++++++++\n",
        "\n",
        "None\n",
        "\n",
        "### ++++++++ Termina la sección de agregar texto. +++++++++++"
      ]
    },
    {
      "cell_type": "markdown",
      "metadata": {
        "id": "AeTAcfFKX3Sm"
      },
      "source": [
        "## **Ejercicio 15**"
      ]
    },
    {
      "cell_type": "markdown",
      "metadata": {
        "id": "n04HnK-ZX4vl"
      },
      "source": [
        "### **Escribe tus conclusiones finales de la actividad.**"
      ]
    },
    {
      "cell_type": "markdown",
      "metadata": {
        "id": "R7s7iDgKYEn9"
      },
      "source": [
        "### ++++++++ Inicia la sección de agregar texto: +++++++++++\n",
        "\n",
        "None\n",
        "\n",
        "\n",
        "### ++++++++ Termina la sección de agregar texto. +++++++++++\n"
      ]
    },
    {
      "cell_type": "markdown",
      "metadata": {
        "id": "v-tW_CdUYMdl"
      },
      "source": [
        ">> ### **Fin de la Actividad de las Semanas 5 y 6.**"
      ]
    }
  ],
  "metadata": {
    "colab": {
      "collapsed_sections": [
        "AUxxkjE6shkH",
        "B9i2CrLJs-1m",
        "TPOqRS7pNCNH",
        "hDV5EpEIRsy4"
      ],
      "provenance": []
    },
    "kernelspec": {
      "display_name": "Python 3 (ipykernel)",
      "language": "python",
      "name": "python3"
    },
    "language_info": {
      "codemirror_mode": {
        "name": "ipython",
        "version": 3
      },
      "file_extension": ".py",
      "mimetype": "text/x-python",
      "name": "python",
      "nbconvert_exporter": "python",
      "pygments_lexer": "ipython3",
      "version": "3.9.13"
    }
  },
  "nbformat": 4,
  "nbformat_minor": 0
}
